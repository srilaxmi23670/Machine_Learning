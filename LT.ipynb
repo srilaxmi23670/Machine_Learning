{
  "nbformat": 4,
  "nbformat_minor": 0,
  "metadata": {
    "colab": {
      "name": "LT.ipynb",
      "provenance": [],
      "collapsed_sections": [],
      "authorship_tag": "ABX9TyMhKQl6XUCCu5gkMMO3mjDq",
      "include_colab_link": true
    },
    "kernelspec": {
      "name": "python3",
      "display_name": "Python 3"
    },
    "language_info": {
      "name": "python"
    }
  },
  "cells": [
    {
      "cell_type": "markdown",
      "metadata": {
        "id": "view-in-github",
        "colab_type": "text"
      },
      "source": [
        "<a href=\"https://colab.research.google.com/github/srilaxmi23670/Machine_Learning/blob/main/LT.ipynb\" target=\"_parent\"><img src=\"https://colab.research.google.com/assets/colab-badge.svg\" alt=\"Open In Colab\"/></a>"
      ]
    },
    {
      "cell_type": "code",
      "metadata": {
        "id": "kWHCOyJMhg_k"
      },
      "source": [
        "# load doc into memory\n",
        "def load_doc(filename):\n",
        "\t# open the file as read only\n",
        "\tfile = open(filename, mode='rt', encoding='utf-8')\n",
        "\t# read all text\n",
        "\ttext = file.read()\n",
        "\t# close the file\n",
        "\tfile.close()\n",
        "\treturn text"
      ],
      "execution_count": null,
      "outputs": []
    },
    {
      "cell_type": "code",
      "metadata": {
        "id": "9XmhF3--hwXQ"
      },
      "source": [
        "# split a loaded document into sentences\n",
        "def to_pairs(doc):\n",
        "\tlines = doc.strip().split('\\n')\n",
        "\tpairs = [line.split('\\t') for line in  lines]\n",
        "\treturn pairs"
      ],
      "execution_count": null,
      "outputs": []
    },
    {
      "cell_type": "code",
      "metadata": {
        "id": "aJLmxcxWh1vA"
      },
      "source": [
        "# split a loaded document into sentences\n",
        "def to_pairs(doc):\n",
        "\tlines = doc.strip().split('\\n')\n",
        "\tpairs = [line.split('\\t') for line in  lines]\n",
        "\treturn pairs"
      ],
      "execution_count": null,
      "outputs": []
    },
    {
      "cell_type": "code",
      "metadata": {
        "id": "hkT8BiIKh5mx"
      },
      "source": [
        "# clean a list of lines\n",
        "def clean_pairs(lines):\n",
        "\tcleaned = list()\n",
        "\t# prepare regex for char filtering\n",
        "\tre_print = re.compile('[^%s]' % re.escape(string.printable))\n",
        "\t# prepare translation table for removing punctuation\n",
        "\ttable = str.maketrans('', '', string.punctuation)\n",
        "\tfor pair in lines:\n",
        "\t\tclean_pair = list()\n",
        "\t\tfor line in pair:\n",
        "\t\t\t# normalize unicode characters\n",
        "\t\t\tline = normalize('NFD', line).encode('ascii', 'ignore')\n",
        "\t\t\tline = line.decode('UTF-8')\n",
        "\t\t\t# tokenize on white space\n",
        "\t\t\tline = line.split()\n",
        "\t\t\t# convert to lowercase\n",
        "\t\t\tline = [word.lower() for word in line]\n",
        "\t\t\t# remove punctuation from each token\n",
        "\t\t\tline = [word.translate(table) for word in line]\n",
        "\t\t\t# remove non-printable chars form each token\n",
        "\t\t\tline = [re_print.sub('', w) for w in line]\n",
        "\t\t\t# remove tokens with numbers in them\n",
        "\t\t\tline = [word for word in line if word.isalpha()]\n",
        "\t\t\t# store as string\n",
        "\t\t\tclean_pair.append(' '.join(line))\n",
        "\t\tcleaned.append(clean_pair)\n",
        "\treturn array(cleaned)"
      ],
      "execution_count": null,
      "outputs": []
    },
    {
      "cell_type": "code",
      "metadata": {
        "colab": {
          "base_uri": "https://localhost:8080/"
        },
        "id": "jfYJx1dOiAsS",
        "outputId": "649fce15-a4c9-4db9-bc1b-eeb954694d72"
      },
      "source": [
        "import string\n",
        "import re\n",
        "from pickle import dump\n",
        "from unicodedata import normalize\n",
        "from numpy import array\n",
        "\n",
        "# load doc into memory\n",
        "def load_doc(filename):\n",
        "\t# open the file as read only\n",
        "\tfile = open(filename, mode='rt', encoding='utf-8')\n",
        "\t# read all text\n",
        "\ttext = file.read()\n",
        "\t# close the file\n",
        "\tfile.close()\n",
        "\treturn text\n",
        "\n",
        "# split a loaded document into sentences\n",
        "def to_pairs(doc):\n",
        "\tlines = doc.strip().split('\\n')\n",
        "\tpairs = [line.split('\\t') for line in  lines]\n",
        "\treturn pairs\n",
        "\n",
        "# clean a list of lines\n",
        "def clean_pairs(lines):\n",
        "\tcleaned = list()\n",
        "\t# prepare regex for char filtering\n",
        "\tre_print = re.compile('[^%s]' % re.escape(string.printable))\n",
        "\t# prepare translation table for removing punctuation\n",
        "\ttable = str.maketrans('', '', string.punctuation)\n",
        "\tfor pair in lines:\n",
        "\t\tclean_pair = list()\n",
        "\t\tfor line in pair:\n",
        "\t\t\t# normalize unicode characters\n",
        "\t\t\tline = normalize('NFD', line).encode('ascii', 'ignore')\n",
        "\t\t\tline = line.decode('UTF-8')\n",
        "\t\t\t# tokenize on white space\n",
        "\t\t\tline = line.split()\n",
        "\t\t\t# convert to lowercase\n",
        "\t\t\tline = [word.lower() for word in line]\n",
        "\t\t\t# remove punctuation from each token\n",
        "\t\t\tline = [word.translate(table) for word in line]\n",
        "\t\t\t# remove non-printable chars form each token\n",
        "\t\t\tline = [re_print.sub('', w) for w in line]\n",
        "\t\t\t# remove tokens with numbers in them\n",
        "\t\t\tline = [word for word in line if word.isalpha()]\n",
        "\t\t\t# store as string\n",
        "\t\t\tclean_pair.append(' '.join(line))\n",
        "\t\tcleaned.append(clean_pair)\n",
        "\treturn array(cleaned)\n",
        "\n",
        "# save a list of clean sentences to file\n",
        "def save_clean_data(sentences, filename):\n",
        "\tdump(sentences, open(filename, 'wb'))\n",
        "\tprint('Saved: %s' % filename)\n",
        "\n",
        "# load dataset\n",
        "filename = 'deu.txt'\n",
        "doc = load_doc(filename)\n",
        "# split into english-german pairs\n",
        "pairs = to_pairs(doc)\n",
        "# clean sentences\n",
        "clean_pairs = clean_pairs(pairs)\n",
        "# save clean pairs to file\n",
        "save_clean_data(clean_pairs, 'english-german.pkl')\n",
        "# spot check\n",
        "for i in range(100):\n",
        "\tprint('[%s] => [%s]' % (clean_pairs[i,0], clean_pairs[i,1]))"
      ],
      "execution_count": null,
      "outputs": [
        {
          "output_type": "stream",
          "name": "stdout",
          "text": [
            "Saved: english-german.pkl\n",
            "[hi] => [hallo]\n",
            "[hi] => [gru gott]\n",
            "[run] => [lauf]\n",
            "[wow] => [potzdonner]\n",
            "[wow] => [donnerwetter]\n",
            "[fire] => [feuer]\n",
            "[help] => [hilfe]\n",
            "[help] => [zu hulf]\n",
            "[stop] => [stopp]\n",
            "[wait] => [warte]\n",
            "[hello] => [hallo]\n",
            "[i try] => [ich probiere es]\n",
            "[i won] => [ich hab gewonnen]\n",
            "[i won] => [ich habe gewonnen]\n",
            "[smile] => [lacheln]\n",
            "[cheers] => [zum wohl]\n",
            "[freeze] => [keine bewegung]\n",
            "[freeze] => [stehenbleiben]\n",
            "[got it] => [verstanden]\n",
            "[got it] => [einverstanden]\n",
            "[he ran] => [er rannte]\n",
            "[he ran] => [er lief]\n",
            "[hop in] => [mach mit]\n",
            "[hug me] => [druck mich]\n",
            "[hug me] => [nimm mich in den arm]\n",
            "[hug me] => [umarme mich]\n",
            "[i fell] => [ich fiel]\n",
            "[i fell] => [ich fiel hin]\n",
            "[i fell] => [ich sturzte]\n",
            "[i fell] => [ich bin hingefallen]\n",
            "[i fell] => [ich bin gesturzt]\n",
            "[i know] => [ich wei]\n",
            "[i lied] => [ich habe gelogen]\n",
            "[i lost] => [ich habe verloren]\n",
            "[im] => [ich bin jahre alt]\n",
            "[im] => [ich bin]\n",
            "[im ok] => [mir gehts gut]\n",
            "[im ok] => [es geht mir gut]\n",
            "[no way] => [unmoglich]\n",
            "[no way] => [das gibts doch nicht]\n",
            "[no way] => [ausgeschlossen]\n",
            "[no way] => [in keinster weise]\n",
            "[really] => [wirklich]\n",
            "[really] => [echt]\n",
            "[really] => [im ernst]\n",
            "[thanks] => [danke]\n",
            "[try it] => [versuchs]\n",
            "[why me] => [warum ich]\n",
            "[ask tom] => [frag tom]\n",
            "[ask tom] => [fragen sie tom]\n",
            "[ask tom] => [fragt tom]\n",
            "[be cool] => [entspann dich]\n",
            "[be fair] => [sei nicht ungerecht]\n",
            "[be fair] => [sei fair]\n",
            "[be nice] => [sei nett]\n",
            "[be nice] => [seien sie nett]\n",
            "[beat it] => [geh weg]\n",
            "[beat it] => [hau ab]\n",
            "[beat it] => [verschwinde]\n",
            "[beat it] => [verdufte]\n",
            "[beat it] => [mach dich fort]\n",
            "[beat it] => [zieh leine]\n",
            "[beat it] => [mach dich vom acker]\n",
            "[beat it] => [verzieh dich]\n",
            "[beat it] => [verkrumele dich]\n",
            "[beat it] => [troll dich]\n",
            "[beat it] => [zisch ab]\n",
            "[beat it] => [pack dich]\n",
            "[beat it] => [mach ne fliege]\n",
            "[beat it] => [schwirr ab]\n",
            "[beat it] => [mach die sause]\n",
            "[beat it] => [scher dich weg]\n",
            "[beat it] => [scher dich fort]\n",
            "[call me] => [ruf mich an]\n",
            "[come in] => [komm herein]\n",
            "[come in] => [herein]\n",
            "[come on] => [komm]\n",
            "[come on] => [kommt]\n",
            "[come on] => [mach schon]\n",
            "[come on] => [macht schon]\n",
            "[get out] => [raus]\n",
            "[go away] => [geh weg]\n",
            "[go away] => [hau ab]\n",
            "[go away] => [verschwinde]\n",
            "[go away] => [verdufte]\n",
            "[go away] => [mach dich fort]\n",
            "[go away] => [zieh leine]\n",
            "[go away] => [mach dich vom acker]\n",
            "[go away] => [verzieh dich]\n",
            "[go away] => [verkrumele dich]\n",
            "[go away] => [troll dich]\n",
            "[go away] => [zisch ab]\n",
            "[go away] => [pack dich]\n",
            "[go away] => [mach ne fliege]\n",
            "[go away] => [schwirr ab]\n",
            "[go away] => [mach die sause]\n",
            "[go away] => [scher dich weg]\n",
            "[go away] => [scher dich fort]\n",
            "[go away] => [geh weg]\n",
            "[go away] => [verpiss dich]\n"
          ]
        }
      ]
    },
    {
      "cell_type": "code",
      "metadata": {
        "colab": {
          "base_uri": "https://localhost:8080/"
        },
        "id": "hxbqLM86ipXr",
        "outputId": "37e58ff4-69a3-4a91-fa07-28917ec3b42f"
      },
      "source": [
        "from pickle import load\n",
        "from pickle import dump\n",
        "from numpy.random import rand\n",
        "from numpy.random import shuffle\n",
        "from keras.preprocessing.text import Tokenizer\n",
        "\n",
        "# load a clean dataset\n",
        "def load_clean_sentences(filename):\n",
        "\treturn load(open(filename, 'rb'))\n",
        "\n",
        "# save a list of clean sentences to file\n",
        "def save_clean_data(sentences, filename):\n",
        "\tdump(sentences, open(filename, 'wb'))\n",
        "\tprint('Saved: %s' % filename)\n",
        "\n",
        "# load dataset\n",
        "raw_dataset = load_clean_sentences('english-german.pkl')\n",
        "\n",
        "# reduce dataset size\n",
        "n_sentences = 10000\n",
        "dataset = raw_dataset[:n_sentences, :]\n",
        "# random shuffle\n",
        "shuffle(dataset)\n",
        "# split into train/test\n",
        "train, test = dataset[:9000], dataset[9000:]\n",
        "# save\n",
        "save_clean_data(dataset, 'english-german-both.pkl')\n",
        "save_clean_data(train, 'english-german-train.pkl')\n",
        "save_clean_data(test, 'english-german-test.pkl')"
      ],
      "execution_count": null,
      "outputs": [
        {
          "output_type": "stream",
          "name": "stdout",
          "text": [
            "Saved: english-german-both.pkl\n",
            "Saved: english-german-train.pkl\n",
            "Saved: english-german-test.pkl\n"
          ]
        }
      ]
    },
    {
      "cell_type": "code",
      "metadata": {
        "id": "tauD3W26iu7s"
      },
      "source": [
        "# load a clean dataset\n",
        "def load_clean_sentences(filename):\n",
        "\treturn load(open(filename, 'rb'))\n",
        "\n",
        "# load datasets\n",
        "dataset = load_clean_sentences('english-german-both.pkl')\n",
        "train = load_clean_sentences('english-german-train.pkl')\n",
        "test = load_clean_sentences('english-german-test.pkl')"
      ],
      "execution_count": null,
      "outputs": []
    },
    {
      "cell_type": "code",
      "metadata": {
        "id": "FBP3-HezixUW"
      },
      "source": [
        "# load a clean dataset\n",
        "def load_clean_sentences(filename):\n",
        "\treturn load(open(filename, 'rb'))\n",
        "\n",
        "# load datasets\n",
        "dataset = load_clean_sentences('english-german-both.pkl')\n",
        "train = load_clean_sentences('english-german-train.pkl')\n",
        "test = load_clean_sentences('english-german-test.pkl')"
      ],
      "execution_count": null,
      "outputs": []
    },
    {
      "cell_type": "code",
      "metadata": {
        "id": "CEMEPJiLi_K1"
      },
      "source": [
        "# fit a tokenizer\n",
        "def create_tokenizer(lines):\n",
        "\ttokenizer = Tokenizer()\n",
        "\ttokenizer.fit_on_texts(lines)\n",
        "\treturn tokenizer"
      ],
      "execution_count": null,
      "outputs": []
    },
    {
      "cell_type": "code",
      "metadata": {
        "id": "mt0welTPi0bg"
      },
      "source": [
        "# max sentence length\n",
        "def max_length(lines):\n",
        "\treturn max(len(line.split()) for line in lines)"
      ],
      "execution_count": null,
      "outputs": []
    },
    {
      "cell_type": "code",
      "metadata": {
        "colab": {
          "base_uri": "https://localhost:8080/"
        },
        "id": "UXnlD91fi21j",
        "outputId": "16fbc2d5-46a5-4bf3-a6b5-76a555ad8c84"
      },
      "source": [
        "# prepare english tokenizer\n",
        "eng_tokenizer = create_tokenizer(dataset[:, 0])\n",
        "eng_vocab_size = len(eng_tokenizer.word_index) + 1\n",
        "eng_length = max_length(dataset[:, 0])\n",
        "print('English Vocabulary Size: %d' % eng_vocab_size)\n",
        "print('English Max Length: %d' % (eng_length))\n",
        "# prepare german tokenizer\n",
        "ger_tokenizer = create_tokenizer(dataset[:, 1])\n",
        "ger_vocab_size = len(ger_tokenizer.word_index) + 1\n",
        "ger_length = max_length(dataset[:, 1])\n",
        "print('German Vocabulary Size: %d' % ger_vocab_size)\n",
        "print('German Max Length: %d' % (ger_length))"
      ],
      "execution_count": null,
      "outputs": [
        {
          "output_type": "stream",
          "name": "stdout",
          "text": [
            "English Vocabulary Size: 2404\n",
            "English Max Length: 5\n",
            "German Vocabulary Size: 3856\n",
            "German Max Length: 10\n"
          ]
        }
      ]
    },
    {
      "cell_type": "code",
      "metadata": {
        "id": "_V6bvtoljV4r"
      },
      "source": [
        "# encode and pad sequences\n",
        "from keras.preprocessing.sequence import pad_sequences\n",
        "\n",
        "def encode_sequences(tokenizer, length, lines):\n",
        "\t# integer encode sequences\n",
        "\tX = tokenizer.texts_to_sequences(lines)\n",
        "\t# pad sequences with 0 values\n",
        "\tX = pad_sequences(X, maxlen=length, padding='post')\n",
        "\treturn X"
      ],
      "execution_count": null,
      "outputs": []
    },
    {
      "cell_type": "code",
      "metadata": {
        "id": "W40YyBMEjaW-"
      },
      "source": [
        "# one hot encode target sequence\n",
        "import keras\n",
        "import keras.utils\n",
        "from keras import utils as np_utils\n",
        "from keras.utils.np_utils import to_categorical\n",
        "\n",
        "def encode_output(sequences, vocab_size):\n",
        "\tylist = list()\n",
        "\tfor sequence in sequences:\n",
        "\t\tencoded = to_categorical(sequence, num_classes=vocab_size)\n",
        "\t\tylist.append(encoded)\n",
        "\ty = array(ylist)\n",
        "\ty = y.reshape(sequences.shape[0], sequences.shape[1], vocab_size)\n",
        "\treturn y"
      ],
      "execution_count": null,
      "outputs": []
    },
    {
      "cell_type": "code",
      "metadata": {
        "id": "wbxWr4QijdPq"
      },
      "source": [
        "# prepare training data\n",
        "from keras.preprocessing.sequence import pad_sequences\n",
        "\n",
        "trainX = encode_sequences(ger_tokenizer, ger_length, train[:, 1])\n",
        "trainY = encode_sequences(eng_tokenizer, eng_length, train[:, 0])\n",
        "trainY = encode_output(trainY, eng_vocab_size)\n",
        "# prepare validation data\n",
        "testX = encode_sequences(ger_tokenizer, ger_length, test[:, 1])\n",
        "testY = encode_sequences(eng_tokenizer, eng_length, test[:, 0])\n",
        "testY = encode_output(testY, eng_vocab_size)"
      ],
      "execution_count": null,
      "outputs": []
    },
    {
      "cell_type": "code",
      "metadata": {
        "colab": {
          "base_uri": "https://localhost:8080/",
          "height": 963
        },
        "id": "LWpq3obwkwp3",
        "outputId": "4eaa5197-47a9-45ab-acf1-80d23a72d10e"
      },
      "source": [
        "# define NMT model\n",
        "from keras.models import Sequential\n",
        "from keras.layers import Dense,LSTM,Embedding, Bidirectional,RepeatVector,TimeDistributed\n",
        "from keras.callbacks import ModelCheckpoint\n",
        "from tensorflow.keras.utils import plot_model\n",
        "\n",
        "def define_model(src_vocab, tar_vocab, src_timesteps, tar_timesteps, n_units):\n",
        "\tmodel = Sequential()\n",
        "\tmodel.add(Embedding(src_vocab, n_units, input_length=src_timesteps, mask_zero=True))\n",
        "\tmodel.add(LSTM(n_units))\n",
        "\tmodel.add(RepeatVector(tar_timesteps))\n",
        "\tmodel.add(LSTM(n_units, return_sequences=True))\n",
        "\tmodel.add(TimeDistributed(Dense(tar_vocab, activation='softmax')))\n",
        "\treturn model\n",
        "\n",
        "# define model\n",
        "model = define_model(ger_vocab_size, eng_vocab_size, ger_length, eng_length, 256)\n",
        "model.compile(optimizer='adam', loss='categorical_crossentropy')\n",
        "# summarize defined model\n",
        "print(model.summary())\n",
        "plot_model(model, to_file='model.png', show_shapes=True)"
      ],
      "execution_count": null,
      "outputs": [
        {
          "output_type": "stream",
          "name": "stdout",
          "text": [
            "Model: \"sequential_3\"\n",
            "_________________________________________________________________\n",
            "Layer (type)                 Output Shape              Param #   \n",
            "=================================================================\n",
            "embedding_2 (Embedding)      (None, 10, 256)           987136    \n",
            "_________________________________________________________________\n",
            "lstm_4 (LSTM)                (None, 256)               525312    \n",
            "_________________________________________________________________\n",
            "repeat_vector_2 (RepeatVecto (None, 5, 256)            0         \n",
            "_________________________________________________________________\n",
            "lstm_5 (LSTM)                (None, 5, 256)            525312    \n",
            "_________________________________________________________________\n",
            "time_distributed_2 (TimeDist (None, 5, 2404)           617828    \n",
            "=================================================================\n",
            "Total params: 2,655,588\n",
            "Trainable params: 2,655,588\n",
            "Non-trainable params: 0\n",
            "_________________________________________________________________\n",
            "None\n"
          ]
        },
        {
          "output_type": "execute_result",
          "data": {
            "image/png": "[encoded data removed]",
            "text/plain": [
              "<IPython.core.display.Image object>"
            ]
          },
          "metadata": {},
          "execution_count": 39
        }
      ]
    },
    {
      "cell_type": "code",
      "metadata": {
        "colab": {
          "base_uri": "https://localhost:8080/"
        },
        "id": "qgYBiN0LmTIZ",
        "outputId": "18d44459-6974-4343-8305-6e0362d655e9"
      },
      "source": [
        "# fit model\n",
        "filename = 'model.h5'\n",
        "checkpoint = ModelCheckpoint(filename, monitor='val_loss', verbose=1, save_best_only=True, mode='min')\n",
        "model.fit(trainX, trainY, epochs=30, batch_size=64, validation_data=(testX, testY), callbacks=[checkpoint], verbose=2)"
      ],
      "execution_count": null,
      "outputs": [
        {
          "output_type": "stream",
          "name": "stdout",
          "text": [
            "Epoch 1/30\n",
            "141/141 - 25s - loss: 3.3659 - val_loss: 3.4333\n",
            "\n",
            "Epoch 00001: val_loss improved from inf to 3.43332, saving model to model.h5\n",
            "Epoch 2/30\n",
            "141/141 - 25s - loss: 3.1993 - val_loss: 3.3398\n",
            "\n",
            "Epoch 00002: val_loss improved from 3.43332 to 3.33978, saving model to model.h5\n",
            "Epoch 3/30\n",
            "141/141 - 25s - loss: 3.0605 - val_loss: 3.2085\n",
            "\n",
            "Epoch 00003: val_loss improved from 3.33978 to 3.20848, saving model to model.h5\n",
            "Epoch 4/30\n",
            "141/141 - 25s - loss: 2.9113 - val_loss: 3.0999\n",
            "\n",
            "Epoch 00004: val_loss improved from 3.20848 to 3.09986, saving model to model.h5\n",
            "Epoch 5/30\n",
            "141/141 - 26s - loss: 2.7691 - val_loss: 3.0046\n",
            "\n",
            "Epoch 00005: val_loss improved from 3.09986 to 3.00457, saving model to model.h5\n",
            "Epoch 6/30\n",
            "141/141 - 25s - loss: 2.6196 - val_loss: 2.8949\n",
            "\n",
            "Epoch 00006: val_loss improved from 3.00457 to 2.89491, saving model to model.h5\n",
            "Epoch 7/30\n",
            "141/141 - 25s - loss: 2.4642 - val_loss: 2.7981\n",
            "\n",
            "Epoch 00007: val_loss improved from 2.89491 to 2.79814, saving model to model.h5\n",
            "Epoch 8/30\n",
            "141/141 - 25s - loss: 2.3081 - val_loss: 2.6931\n",
            "\n",
            "Epoch 00008: val_loss improved from 2.79814 to 2.69314, saving model to model.h5\n",
            "Epoch 9/30\n",
            "141/141 - 26s - loss: 2.1623 - val_loss: 2.6018\n",
            "\n",
            "Epoch 00009: val_loss improved from 2.69314 to 2.60176, saving model to model.h5\n",
            "Epoch 10/30\n",
            "141/141 - 26s - loss: 2.0213 - val_loss: 2.5444\n",
            "\n",
            "Epoch 00010: val_loss improved from 2.60176 to 2.54437, saving model to model.h5\n",
            "Epoch 11/30\n",
            "141/141 - 25s - loss: 1.8878 - val_loss: 2.4797\n",
            "\n",
            "Epoch 00011: val_loss improved from 2.54437 to 2.47967, saving model to model.h5\n",
            "Epoch 12/30\n",
            "141/141 - 24s - loss: 1.7625 - val_loss: 2.4284\n",
            "\n",
            "Epoch 00012: val_loss improved from 2.47967 to 2.42840, saving model to model.h5\n",
            "Epoch 13/30\n",
            "141/141 - 25s - loss: 1.6519 - val_loss: 2.3767\n",
            "\n",
            "Epoch 00013: val_loss improved from 2.42840 to 2.37668, saving model to model.h5\n",
            "Epoch 14/30\n",
            "141/141 - 25s - loss: 1.5412 - val_loss: 2.3279\n",
            "\n",
            "Epoch 00014: val_loss improved from 2.37668 to 2.32786, saving model to model.h5\n",
            "Epoch 15/30\n",
            "141/141 - 25s - loss: 1.4381 - val_loss: 2.2987\n",
            "\n",
            "Epoch 00015: val_loss improved from 2.32786 to 2.29865, saving model to model.h5\n",
            "Epoch 16/30\n",
            "141/141 - 25s - loss: 1.3355 - val_loss: 2.2619\n",
            "\n",
            "Epoch 00016: val_loss improved from 2.29865 to 2.26190, saving model to model.h5\n",
            "Epoch 17/30\n",
            "141/141 - 25s - loss: 1.2408 - val_loss: 2.2405\n",
            "\n",
            "Epoch 00017: val_loss improved from 2.26190 to 2.24047, saving model to model.h5\n",
            "Epoch 18/30\n",
            "141/141 - 25s - loss: 1.1512 - val_loss: 2.2160\n",
            "\n",
            "Epoch 00018: val_loss improved from 2.24047 to 2.21600, saving model to model.h5\n",
            "Epoch 19/30\n",
            "141/141 - 26s - loss: 1.0665 - val_loss: 2.1904\n",
            "\n",
            "Epoch 00019: val_loss improved from 2.21600 to 2.19039, saving model to model.h5\n",
            "Epoch 20/30\n",
            "141/141 - 25s - loss: 0.9854 - val_loss: 2.1608\n",
            "\n",
            "Epoch 00020: val_loss improved from 2.19039 to 2.16076, saving model to model.h5\n",
            "Epoch 21/30\n",
            "141/141 - 25s - loss: 0.9066 - val_loss: 2.1458\n",
            "\n",
            "Epoch 00021: val_loss improved from 2.16076 to 2.14584, saving model to model.h5\n",
            "Epoch 22/30\n",
            "141/141 - 25s - loss: 0.8354 - val_loss: 2.1335\n",
            "\n",
            "Epoch 00022: val_loss improved from 2.14584 to 2.13350, saving model to model.h5\n",
            "Epoch 23/30\n",
            "141/141 - 25s - loss: 0.7684 - val_loss: 2.1188\n",
            "\n",
            "Epoch 00023: val_loss improved from 2.13350 to 2.11884, saving model to model.h5\n",
            "Epoch 24/30\n",
            "141/141 - 26s - loss: 0.7089 - val_loss: 2.1168\n",
            "\n",
            "Epoch 00024: val_loss improved from 2.11884 to 2.11681, saving model to model.h5\n",
            "Epoch 25/30\n",
            "141/141 - 25s - loss: 0.6493 - val_loss: 2.1004\n",
            "\n",
            "Epoch 00025: val_loss improved from 2.11681 to 2.10039, saving model to model.h5\n",
            "Epoch 26/30\n",
            "141/141 - 25s - loss: 0.5952 - val_loss: 2.0906\n",
            "\n",
            "Epoch 00026: val_loss improved from 2.10039 to 2.09060, saving model to model.h5\n",
            "Epoch 27/30\n",
            "141/141 - 25s - loss: 0.5456 - val_loss: 2.0858\n",
            "\n",
            "Epoch 00027: val_loss improved from 2.09060 to 2.08578, saving model to model.h5\n",
            "Epoch 28/30\n",
            "141/141 - 25s - loss: 0.5006 - val_loss: 2.0783\n",
            "\n",
            "Epoch 00028: val_loss improved from 2.08578 to 2.07832, saving model to model.h5\n",
            "Epoch 29/30\n",
            "141/141 - 26s - loss: 0.4608 - val_loss: 2.0916\n",
            "\n",
            "Epoch 00029: val_loss did not improve from 2.07832\n",
            "Epoch 30/30\n",
            "141/141 - 25s - loss: 0.4237 - val_loss: 2.0897\n",
            "\n",
            "Epoch 00030: val_loss did not improve from 2.07832\n"
          ]
        },
        {
          "output_type": "execute_result",
          "data": {
            "text/plain": [
              "<keras.callbacks.History at 0x7f8155431c10>"
            ]
          },
          "metadata": {},
          "execution_count": 42
        }
      ]
    },
    {
      "cell_type": "code",
      "metadata": {
        "id": "4R_6xRpPsKI-"
      },
      "source": [
        "# max sentence length\n",
        "from pickle import load\n",
        "from numpy import array\n",
        "from numpy import argmax\n",
        "from keras.preprocessing.text import Tokenizer\n",
        "from keras.preprocessing.sequence import pad_sequences\n",
        "from keras.models import load_model\n",
        "from nltk.translate.bleu_score import corpus_bleu\n",
        "\n",
        "def max_length(lines):\n",
        "\treturn max(len(line.split()) for line in lines)\n",
        "\n",
        "# encode and pad sequences\n",
        "def encode_sequences(tokenizer, length, lines):\n",
        "\t# integer encode sequences\n",
        "\tX = tokenizer.texts_to_sequences(lines)\n",
        "\t# pad sequences with 0 values\n",
        "\tX = pad_sequences(X, maxlen=length, padding='post')\n",
        "\treturn X"
      ],
      "execution_count": 65,
      "outputs": []
    },
    {
      "cell_type": "code",
      "metadata": {
        "id": "S-SQhkaOoHw_"
      },
      "source": [
        "# map an integer to a word\n",
        "def word_for_id(integer, tokenizer):\n",
        "\tfor word, index in tokenizer.word_index.items():\n",
        "\t\tif index == integer:\n",
        "\t\t\treturn word\n",
        "\treturn None"
      ],
      "execution_count": 66,
      "outputs": []
    },
    {
      "cell_type": "code",
      "metadata": {
        "id": "gkpnClByoJte"
      },
      "source": [
        "# generate target given source sequence\n",
        "def predict_sequence(model, tokenizer, source):\n",
        "\tprediction = model.predict(source, verbose=0)[0]\n",
        "\tintegers = [argmax(vector) for vector in prediction]\n",
        "\ttarget = list()\n",
        "\tfor i in integers:\n",
        "\t\tword = word_for_id(i, tokenizer)\n",
        "\t\tif word is None:\n",
        "\t\t\tbreak\n",
        "\t\ttarget.append(word)\n",
        "\treturn ' '.join(target)"
      ],
      "execution_count": 67,
      "outputs": []
    },
    {
      "cell_type": "code",
      "metadata": {
        "id": "oV6kHfCLoLzf"
      },
      "source": [
        "# evaluate the skill of the model\n",
        "from keras.models import load_model\n",
        "from nltk.translate.bleu_score import corpus_bleu\n",
        "\n",
        "def evaluate_model(model, tokenizer, sources, raw_dataset):\n",
        "\tactual, predicted = list(), list()\n",
        "\tfor i, source in enumerate(sources):\n",
        "\t\t# translate encoded source text\n",
        "\t\tsource = source.reshape((1, source.shape[0]))\n",
        "\t\ttranslation = predict_sequence(model, eng_tokenizer, source)\n",
        "\t\traw_target, raw_src = raw_dataset[i]\n",
        "\t\tif i < 10:\n",
        "\t\t\tprint('src=[%s], target=[%s], predicted=[%s]' % (raw_src, raw_target, translation))\n",
        "\t\tactual.append([raw_target.split()])\n",
        "\t\tpredicted.append(translation.split())\n",
        "\t# calculate BLEU score\n",
        "\tprint('BLEU-1: %f' % corpus_bleu(actual, predicted, weights=(1.0, 0, 0, 0)))\n",
        "\tprint('BLEU-2: %f' % corpus_bleu(actual, predicted, weights=(0.5, 0.5, 0, 0)))\n",
        "\tprint('BLEU-3: %f' % corpus_bleu(actual, predicted, weights=(0.3, 0.3, 0.3, 0)))\n",
        "\tprint('BLEU-4: %f' % corpus_bleu(actual, predicted, weights=(0.25, 0.25, 0.25, 0.25)))"
      ],
      "execution_count": 68,
      "outputs": []
    },
    {
      "cell_type": "code",
      "metadata": {
        "id": "xinH-pr_oOTS"
      },
      "source": [
        "# load datasets\n",
        "\n",
        "dataset = load_clean_sentences('english-german-both.pkl')\n",
        "train = load_clean_sentences('english-german-train.pkl')\n",
        "test = load_clean_sentences('english-german-test.pkl')\n",
        "\n",
        "# prepare english tokenizer\n",
        "eng_tokenizer = create_tokenizer(dataset[:, 0])\n",
        "eng_vocab_size = len(eng_tokenizer.word_index) + 1\n",
        "eng_length = max_length(dataset[:, 0])\n",
        "\n",
        "# prepare german tokenizer\n",
        "ger_tokenizer = create_tokenizer(dataset[:, 1])\n",
        "ger_vocab_size = len(ger_tokenizer.word_index) + 1\n",
        "ger_length = max_length(dataset[:, 1])"
      ],
      "execution_count": 71,
      "outputs": []
    },
    {
      "cell_type": "code",
      "metadata": {
        "id": "B-3lLqyLxd71"
      },
      "source": [
        "# prepare data\n",
        "trainX = encode_sequences(ger_tokenizer, ger_length, train[:, 1])\n",
        "testX = encode_sequences(ger_tokenizer, ger_length, test[:, 1])\n",
        "\n",
        "# load model\n",
        "model = load_model('model.h5')"
      ],
      "execution_count": 72,
      "outputs": []
    },
    {
      "cell_type": "code",
      "metadata": {
        "colab": {
          "base_uri": "https://localhost:8080/"
        },
        "id": "3VWabElYxijD",
        "outputId": "75d3126c-d5bb-4114-a6ca-4770c59bfe3e"
      },
      "source": [
        "# test on some training sequences\n",
        "print('Testing on trained examples:')\n",
        "evaluate_model(model, eng_tokenizer, trainX, train)"
      ],
      "execution_count": 75,
      "outputs": [
        {
          "output_type": "stream",
          "name": "stdout",
          "text": [
            "Testing on trained examples:\n",
            "src=[wo waren sie], target=[where were they], predicted=[where were they]\n",
            "src=[ich bin pizzalieferantin], target=[i deliver pizzas], predicted=[i deliver pizzas]\n",
            "src=[fehler sind unvermeidlich], target=[mistakes happen], predicted=[mistakes happen]\n",
            "src=[ich wohne hier], target=[i live here], predicted=[i live here]\n",
            "src=[sie gab einen schuss ab], target=[she shot a gun], predicted=[she has a gun]\n",
            "src=[ich habe das auto gekauft], target=[i bought the car], predicted=[i bought the book]\n",
            "src=[tom ist ein verlierer], target=[tom is a loser], predicted=[tom is a loser]\n",
            "src=[sei realistisch], target=[be realistic], predicted=[be realistic]\n",
            "src=[geh weiter], target=[keep walking], predicted=[keep walking]\n",
            "src=[sie ist nicht hier], target=[shes not here], predicted=[shes not here]\n",
            "BLEU-1: 0.864026\n",
            "BLEU-2: 0.807762\n",
            "BLEU-3: 0.728940\n",
            "BLEU-4: 0.481116\n"
          ]
        }
      ]
    },
    {
      "cell_type": "code",
      "metadata": {
        "colab": {
          "base_uri": "https://localhost:8080/"
        },
        "id": "C3FYc8DqxlUE",
        "outputId": "94eb8507-01f8-4b03-cb18-7766797ec990"
      },
      "source": [
        "# test on some test sequences\n",
        "print('Testing on test examples:')\n",
        "evaluate_model(model, eng_tokenizer, testX, test)"
      ],
      "execution_count": 76,
      "outputs": [
        {
          "output_type": "stream",
          "name": "stdout",
          "text": [
            "Testing on test examples:\n",
            "src=[tom hat improvisiert], target=[tom improvised], predicted=[tom prayed]\n",
            "src=[tom wurde ausgeraubt], target=[tom got mugged], predicted=[tom was mugged]\n",
            "src=[ich bin sehr aufgebracht], target=[im very upset], predicted=[im very]\n",
            "src=[setzt euch mit tom in verbindung], target=[contact tom], predicted=[contact tom]\n",
            "src=[wir fangen an], target=[well start], predicted=[well start]\n",
            "src=[tom entschuldigte sich], target=[tom apologized], predicted=[tom shaved]\n",
            "src=[du bist unfreundlich], target=[youre unkind], predicted=[youre are]\n",
            "src=[lesen macht mir freude], target=[i enjoy reading], predicted=[ill enjoy that]\n",
            "src=[zeigs mal her], target=[lets see it], predicted=[get it here]\n",
            "src=[wer hat was getan], target=[who did what], predicted=[who did that]\n",
            "BLEU-1: 0.523038\n",
            "BLEU-2: 0.395396\n",
            "BLEU-3: 0.324848\n",
            "BLEU-4: 0.173949\n"
          ]
        }
      ]
    }
  ]
}