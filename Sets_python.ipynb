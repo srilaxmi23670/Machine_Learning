{
  "nbformat": 4,
  "nbformat_minor": 0,
  "metadata": {
    "colab": {
      "name": "Untitled3.ipynb",
      "provenance": [],
      "authorship_tag": "ABX9TyN7MIPxrnJyv7kwA32hcJsV",
      "include_colab_link": true
    },
    "kernelspec": {
      "name": "python3",
      "display_name": "Python 3"
    },
    "language_info": {
      "name": "python"
    }
  },
  "cells": [
    {
      "cell_type": "markdown",
      "metadata": {
        "id": "view-in-github",
        "colab_type": "text"
      },
      "source": [
        "<a href=\"https://colab.research.google.com/github/srilaxmi23670/Machine_Learning/blob/main/Sets_python.ipynb\" target=\"_parent\"><img src=\"https://colab.research.google.com/assets/colab-badge.svg\" alt=\"Open In Colab\"/></a>"
      ]
    },
    {
      "cell_type": "code",
      "metadata": {
        "colab": {
          "base_uri": "https://localhost:8080/"
        },
        "id": "47y1l9K0NLKL",
        "outputId": "bc468306-724f-48c3-d769-33899ba31148"
      },
      "source": [
        "#Let us consider two sets E and N\n",
        "E = {1,2,3,4,5,6,7}\n",
        "N = {2,4,8,9,0}\n",
        "\n",
        "print(\"Union of E and N:\")\n",
        "print(E.union(N))\n",
        "\n",
        "print(\"\\nIntersection of E and N: \")\n",
        "print(E.intersection(N))\n",
        "\n",
        "print(\"\\nSymmetric Difference of E and N: \")\n",
        "print(E.symmetric_difference(N))\n",
        "\n",
        "\n",
        "print(\"\\nDifference of E and N: \")\n",
        "print(E.difference(N))"
      ],
      "execution_count": 6,
      "outputs": [
        {
          "output_type": "stream",
          "text": [
            "Union of E and N:\n",
            "{0, 1, 2, 3, 4, 5, 6, 7, 8, 9}\n",
            "\n",
            "Intersection of E and N: \n",
            "{2, 4}\n",
            "\n",
            "Symmetric Difference of E and N: \n",
            "{0, 1, 3, 5, 6, 7, 8, 9}\n",
            "\n",
            "Difference of E and N: \n",
            "{1, 3, 5, 6, 7}\n"
          ],
          "name": "stdout"
        }
      ]
    }
  ]
}